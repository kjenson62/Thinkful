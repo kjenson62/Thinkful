{
 "cells": [
  {
   "cell_type": "code",
   "execution_count": 128,
   "metadata": {
    "collapsed": true
   },
   "outputs": [],
   "source": [
    "import pandas as pd\n",
    "import numpy as np\n",
    "import matplotlib.pyplot as plt\n",
    "import statistics as stats\n",
    "\n",
    "%matplotlib inline"
   ]
  },
  {
   "cell_type": "code",
   "execution_count": 129,
   "metadata": {},
   "outputs": [
    {
     "data": {
      "text/html": [
       "<div>\n",
       "<style scoped>\n",
       "    .dataframe tbody tr th:only-of-type {\n",
       "        vertical-align: middle;\n",
       "    }\n",
       "\n",
       "    .dataframe tbody tr th {\n",
       "        vertical-align: top;\n",
       "    }\n",
       "\n",
       "    .dataframe thead th {\n",
       "        text-align: right;\n",
       "    }\n",
       "</style>\n",
       "<table border=\"1\" class=\"dataframe\">\n",
       "  <thead>\n",
       "    <tr style=\"text-align: right;\">\n",
       "      <th></th>\n",
       "      <th>age</th>\n",
       "    </tr>\n",
       "  </thead>\n",
       "  <tbody>\n",
       "    <tr>\n",
       "      <th>0</th>\n",
       "      <td>28</td>\n",
       "    </tr>\n",
       "    <tr>\n",
       "      <th>1</th>\n",
       "      <td>42</td>\n",
       "    </tr>\n",
       "    <tr>\n",
       "      <th>2</th>\n",
       "      <td>27</td>\n",
       "    </tr>\n",
       "    <tr>\n",
       "      <th>3</th>\n",
       "      <td>24</td>\n",
       "    </tr>\n",
       "    <tr>\n",
       "      <th>4</th>\n",
       "      <td>35</td>\n",
       "    </tr>\n",
       "    <tr>\n",
       "      <th>5</th>\n",
       "      <td>54</td>\n",
       "    </tr>\n",
       "    <tr>\n",
       "      <th>6</th>\n",
       "      <td>35</td>\n",
       "    </tr>\n",
       "    <tr>\n",
       "      <th>7</th>\n",
       "      <td>37</td>\n",
       "    </tr>\n",
       "  </tbody>\n",
       "</table>\n",
       "</div>"
      ],
      "text/plain": [
       "   age\n",
       "0   28\n",
       "1   42\n",
       "2   27\n",
       "3   24\n",
       "4   35\n",
       "5   54\n",
       "6   35\n",
       "7   37"
      ]
     },
     "execution_count": 129,
     "metadata": {},
     "output_type": "execute_result"
    }
   ],
   "source": [
    "# Make a blank, empty data frame\n",
    "df = pd.DataFrame()\n",
    "\n",
    "df['age'] = [28, 42, 27, 24, 35, 54, 35, 37]\n",
    "df"
   ]
  },
  {
   "cell_type": "code",
   "execution_count": 130,
   "metadata": {},
   "outputs": [
    {
     "name": "stdout",
     "output_type": "stream",
     "text": [
      "35.25\n",
      "35.25\n"
     ]
    }
   ],
   "source": [
    "# Using built-in python functionality\n",
    "mean_age = sum(df.age)/len(df.age)\n",
    "print(mean_age)\n",
    "\n",
    "# Using numpy functionality\n",
    "# is df['age'] better than df.age or are they identical?\n",
    "mean_age_np = np.mean(df['age'])\n",
    "print(mean_age_np)"
   ]
  },
  {
   "cell_type": "code",
   "execution_count": 131,
   "metadata": {},
   "outputs": [
    {
     "name": "stdout",
     "output_type": "stream",
     "text": [
      "This is with vanilla python (statistics module): 35.0.\n",
      "This is with numpy: 35.0.\n"
     ]
    }
   ],
   "source": [
    "# Vanilla python apparently = modules that come built into it\n",
    "print('This is with vanilla python (statistics module): {}.'.format(stats.median(df['age'])))\n",
    "\n",
    "# Or! Use np again\n",
    "print('This is with numpy: {}.'.format(np.median(df['age'])))"
   ]
  },
  {
   "cell_type": "code",
   "execution_count": 132,
   "metadata": {},
   "outputs": [
    {
     "name": "stdout",
     "output_type": "stream",
     "text": [
      "Values: [24 27 28 35 37 42 54]. Counts: [2 1 1 2 1 1 1]\n",
      "0\n",
      "24\n",
      "this is test: [2]\n"
     ]
    }
   ],
   "source": [
    "# Now to the mode\n",
    "#stats.mode(df['age'])\n",
    "\n",
    "# But what if there are multiple modes? Here's one way to get one of the multiple modes without an error being raised\n",
    "# First, generate a list of unique elements along with how often they occur.\n",
    "(values, counts) = np.unique(df['age'], return_counts=True)\n",
    "\n",
    "# Fudging with counts a bit\n",
    "counts[0] = 2\n",
    "print('Values: {}. Counts: {}'.format(values, counts))\n",
    "\n",
    "# Find the first index of the largest count\n",
    "max_ind = np.argmax(counts)\n",
    "\n",
    "print(max_ind)\n",
    "print(values[max_ind])\n",
    "\n",
    "#temp_dat = df\n",
    "#temp_dat.loc[len(temp_dat+1)]=24\n",
    "# But! What if we have multiple modes and want all of them:\n",
    "# Maybe I'll come back to this\n",
    "\n",
    "def find_mode(data, column):\n",
    "    curr_dat = data[str(column)]\n",
    "    (values, counts)=np.unique(curr_dat, return_counts=True)\n",
    "    max_ind=np.argmax(counts)\n",
    "    out_array=[]\n",
    "    for count in counts:\n",
    "        if count == counts[max_ind]:\n",
    "            out_array.append(count)\n",
    "    return out_array\n",
    "    #return pd.DataFrame({'Values':out_array})\n",
    "\n",
    "test = find_mode(df, 'age')\n",
    "        \n",
    "print('this is test: {}'.format(test))"
   ]
  },
  {
   "cell_type": "code",
   "execution_count": 133,
   "metadata": {},
   "outputs": [
    {
     "name": "stdout",
     "output_type": "stream",
     "text": [
      "Mean: 35.25, Var: 92.5\n",
      "92.5\n",
      "92.5\n",
      "9.617692030835672\n",
      "9.617692030835672\n"
     ]
    }
   ],
   "source": [
    "### Going on now to look at variance\n",
    "mean = np.mean(df['age'])\n",
    "age_var = sum((df['age']-mean)**2)/(len(df['age'])-1)\n",
    "print('Mean: {}, Var: {}'.format(mean, age_var))\n",
    "\n",
    "# Or we can use:\n",
    "# Getting the wrong values for the np version...\n",
    "    # Needed to add the delta degrees of freedom parameter\n",
    "print(np.var(df.age.values, ddof=1))\n",
    "print(df.age.var())\n",
    "\n",
    "# Also sd using numpy/pandas\n",
    "print(np.std(df.age.values, ddof=1))\n",
    "print(df.age.var()**0.5)"
   ]
  },
  {
   "cell_type": "code",
   "execution_count": 134,
   "metadata": {},
   "outputs": [
    {
     "name": "stdout",
     "output_type": "stream",
     "text": [
      "3.4003676271838605\n",
      "3.4003676271838605\n"
     ]
    }
   ],
   "source": [
    "### Next, standard error or \"margin of error\" when speaking of poll results\n",
    "stand_dev = age_var**0.5\n",
    "standard_error = stand_dev/len(df['age'])**0.5\n",
    "print(standard_error)\n",
    "\n",
    "# Good ole numpy dtuff\n",
    "print(np.std(df['age'] ,ddof=1) / np.sqrt(len(df['age'])))"
   ]
  },
  {
   "cell_type": "code",
   "execution_count": 135,
   "metadata": {},
   "outputs": [
    {
     "data": {
      "image/png": "[encoded data removed]",
      "text/plain": [
       "<Figure size 432x288 with 2 Axes>"
      ]
     },
     "metadata": {},
     "output_type": "display_data"
    },
    {
     "name": "stdout",
     "output_type": "stream",
     "text": [
      "low_var     106.497888\n",
      "high_var    450.257562\n",
      "dtype: float64\n",
      "low_var      17.960725\n",
      "high_var   -308.953973\n",
      "dtype: float64\n"
     ]
    }
   ],
   "source": [
    "# First, create an empty dataframe to store your variables-to-be.\n",
    "pop=pd.DataFrame()\n",
    "\n",
    "# Then create two variables with mean = 60, one with a low standard\n",
    "# deviation (sd=10) and one with a high standard deviation (sd=100).\n",
    "pop['low_var']=np.random.normal(60, 10, 10000)\n",
    "pop['high_var']=np.random.normal(60, 100, 10000)\n",
    "\n",
    "# Finally, create histograms of the two variables. Notice that it's using native panda method .hist\n",
    "pop.hist(layout=(2, 1), sharex=True)\n",
    "plt.show()\n",
    "\n",
    "# Calculate and print the maximum and minimum values for each variable.\n",
    "print(pop.max())\n",
    "print(pop.min())"
   ]
  },
  {
   "cell_type": "code",
   "execution_count": 136,
   "metadata": {},
   "outputs": [
    {
     "data": {
      "image/png": "[encoded data removed]",
      "text/plain": [
       "<Figure size 432x288 with 2 Axes>"
      ]
     },
     "metadata": {},
     "output_type": "display_data"
    },
    {
     "data": {
      "text/plain": [
       "low_var     10.423123\n",
       "high_var    97.442522\n",
       "dtype: float64"
      ]
     },
     "execution_count": 136,
     "metadata": {},
     "output_type": "execute_result"
    }
   ],
   "source": [
    "# Take a random sample of 100 observations from each variable\n",
    "# and store it in a new dataframe.\n",
    "sample=pd.DataFrame()\n",
    "sample['low_var'] = np.random.choice(pop['low_var'], 100)\n",
    "sample['high_var']=np.random.choice(pop['high_var'], 100)\n",
    "\n",
    "# Again, visualize the data. Note that here we're using a pandas method to \n",
    "# create the histogram.\n",
    "sample.hist(layout=(2,1), sharex=True)\n",
    "plt.show()\n",
    "\n",
    "# Check how well the sample replicates the population.\n",
    "sample.mean()\n",
    "sample.std(ddof=1)"
   ]
  },
  {
   "cell_type": "code",
   "execution_count": 137,
   "metadata": {},
   "outputs": [
    {
     "data": {
      "text/html": [
       "<div>\n",
       "<style scoped>\n",
       "    .dataframe tbody tr th:only-of-type {\n",
       "        vertical-align: middle;\n",
       "    }\n",
       "\n",
       "    .dataframe tbody tr th {\n",
       "        vertical-align: top;\n",
       "    }\n",
       "\n",
       "    .dataframe thead th {\n",
       "        text-align: right;\n",
       "    }\n",
       "</style>\n",
       "<table border=\"1\" class=\"dataframe\">\n",
       "  <thead>\n",
       "    <tr style=\"text-align: right;\">\n",
       "      <th></th>\n",
       "      <th>gender</th>\n",
       "      <th>height</th>\n",
       "      <th>weight</th>\n",
       "    </tr>\n",
       "  </thead>\n",
       "  <tbody>\n",
       "    <tr>\n",
       "      <th>0</th>\n",
       "      <td>male</td>\n",
       "      <td>64.884860</td>\n",
       "      <td>210.301581</td>\n",
       "    </tr>\n",
       "    <tr>\n",
       "      <th>1</th>\n",
       "      <td>male</td>\n",
       "      <td>60.753479</td>\n",
       "      <td>210.066311</td>\n",
       "    </tr>\n",
       "    <tr>\n",
       "      <th>2</th>\n",
       "      <td>male</td>\n",
       "      <td>65.666184</td>\n",
       "      <td>174.397761</td>\n",
       "    </tr>\n",
       "    <tr>\n",
       "      <th>3</th>\n",
       "      <td>male</td>\n",
       "      <td>72.423857</td>\n",
       "      <td>170.547659</td>\n",
       "    </tr>\n",
       "    <tr>\n",
       "      <th>4</th>\n",
       "      <td>male</td>\n",
       "      <td>76.548191</td>\n",
       "      <td>149.306576</td>\n",
       "    </tr>\n",
       "  </tbody>\n",
       "</table>\n",
       "</div>"
      ],
      "text/plain": [
       "  gender     height      weight\n",
       "0   male  64.884860  210.301581\n",
       "1   male  60.753479  210.066311\n",
       "2   male  65.666184  174.397761\n",
       "3   male  72.423857  170.547659\n",
       "4   male  76.548191  149.306576"
      ]
     },
     "execution_count": 137,
     "metadata": {},
     "output_type": "execute_result"
    }
   ],
   "source": [
    "## Moving onto \"Describing Data with Pandas\"\n",
    "\n",
    "# Set up the data\n",
    "data = pd.DataFrame()\n",
    "data['gender'] = ['male']*100 + ['female']*100\n",
    "data['height'] = np.append(np.random.normal(69, 8, 100), np.random.normal(64, 5, 100))\n",
    "data['weight'] = np.append(np.random.normal(195, 25, 100), np.random.normal(166, 15, 100))\n",
    "\n",
    "data.head()"
   ]
  },
  {
   "cell_type": "code",
   "execution_count": 148,
   "metadata": {},
   "outputs": [
    {
     "name": "stdout",
     "output_type": "stream",
     "text": [
      "66.6048337540163\n",
      "179.2112925304462\n"
     ]
    },
    {
     "data": {
      "text/html": [
       "<div>\n",
       "<style scoped>\n",
       "    .dataframe tbody tr th:only-of-type {\n",
       "        vertical-align: middle;\n",
       "    }\n",
       "\n",
       "    .dataframe tbody tr th {\n",
       "        vertical-align: top;\n",
       "    }\n",
       "\n",
       "    .dataframe thead tr th {\n",
       "        text-align: left;\n",
       "    }\n",
       "\n",
       "    .dataframe thead tr:last-of-type th {\n",
       "        text-align: right;\n",
       "    }\n",
       "</style>\n",
       "<table border=\"1\" class=\"dataframe\">\n",
       "  <thead>\n",
       "    <tr>\n",
       "      <th></th>\n",
       "      <th colspan=\"8\" halign=\"left\">height</th>\n",
       "      <th colspan=\"8\" halign=\"left\">weight</th>\n",
       "    </tr>\n",
       "    <tr>\n",
       "      <th></th>\n",
       "      <th>count</th>\n",
       "      <th>mean</th>\n",
       "      <th>std</th>\n",
       "      <th>min</th>\n",
       "      <th>25%</th>\n",
       "      <th>50%</th>\n",
       "      <th>75%</th>\n",
       "      <th>max</th>\n",
       "      <th>count</th>\n",
       "      <th>mean</th>\n",
       "      <th>std</th>\n",
       "      <th>min</th>\n",
       "      <th>25%</th>\n",
       "      <th>50%</th>\n",
       "      <th>75%</th>\n",
       "      <th>max</th>\n",
       "    </tr>\n",
       "    <tr>\n",
       "      <th>gender</th>\n",
       "      <th></th>\n",
       "      <th></th>\n",
       "      <th></th>\n",
       "      <th></th>\n",
       "      <th></th>\n",
       "      <th></th>\n",
       "      <th></th>\n",
       "      <th></th>\n",
       "      <th></th>\n",
       "      <th></th>\n",
       "      <th></th>\n",
       "      <th></th>\n",
       "      <th></th>\n",
       "      <th></th>\n",
       "      <th></th>\n",
       "      <th></th>\n",
       "    </tr>\n",
       "  </thead>\n",
       "  <tbody>\n",
       "    <tr>\n",
       "      <th>female</th>\n",
       "      <td>100.0</td>\n",
       "      <td>64.434423</td>\n",
       "      <td>5.135701</td>\n",
       "      <td>53.771742</td>\n",
       "      <td>60.573765</td>\n",
       "      <td>64.111599</td>\n",
       "      <td>68.055731</td>\n",
       "      <td>77.382896</td>\n",
       "      <td>100.0</td>\n",
       "      <td>163.638932</td>\n",
       "      <td>14.031586</td>\n",
       "      <td>127.180479</td>\n",
       "      <td>153.415995</td>\n",
       "      <td>163.880397</td>\n",
       "      <td>172.238615</td>\n",
       "      <td>195.003549</td>\n",
       "    </tr>\n",
       "    <tr>\n",
       "      <th>male</th>\n",
       "      <td>100.0</td>\n",
       "      <td>68.775244</td>\n",
       "      <td>7.615814</td>\n",
       "      <td>51.054894</td>\n",
       "      <td>62.873433</td>\n",
       "      <td>68.922686</td>\n",
       "      <td>74.339773</td>\n",
       "      <td>86.633752</td>\n",
       "      <td>100.0</td>\n",
       "      <td>194.783653</td>\n",
       "      <td>23.488917</td>\n",
       "      <td>143.543944</td>\n",
       "      <td>178.540459</td>\n",
       "      <td>195.564164</td>\n",
       "      <td>208.855317</td>\n",
       "      <td>252.766431</td>\n",
       "    </tr>\n",
       "  </tbody>\n",
       "</table>\n",
       "</div>"
      ],
      "text/plain": [
       "       height                                                        \\\n",
       "        count       mean       std        min        25%        50%   \n",
       "gender                                                                \n",
       "female  100.0  64.434423  5.135701  53.771742  60.573765  64.111599   \n",
       "male    100.0  68.775244  7.615814  51.054894  62.873433  68.922686   \n",
       "\n",
       "                             weight                                     \\\n",
       "              75%        max  count        mean        std         min   \n",
       "gender                                                                   \n",
       "female  68.055731  77.382896  100.0  163.638932  14.031586  127.180479   \n",
       "male    74.339773  86.633752  100.0  194.783653  23.488917  143.543944   \n",
       "\n",
       "                                                        \n",
       "               25%         50%         75%         max  \n",
       "gender                                                  \n",
       "female  153.415995  163.880397  172.238615  195.003549  \n",
       "male    178.540459  195.564164  208.855317  252.766431  "
      ]
     },
     "execution_count": 148,
     "metadata": {},
     "output_type": "execute_result"
    }
   ],
   "source": [
    "# Here are some neat native panda methods for quickly describing data\n",
    "print(data.height.mean())\n",
    "print(data.weight.mean())\n",
    "\n",
    "# Look at this!\n",
    "data.describe()\n",
    "\n",
    "# And this!\n",
    "data.groupby('gender').describe()"
   ]
  },
  {
   "cell_type": "code",
   "execution_count": 160,
   "metadata": {},
   "outputs": [
    {
     "name": "stdout",
     "output_type": "stream",
     "text": [
      "female    100\n",
      "male      100\n",
      "Name: gender, dtype: int64\n",
      "200\n"
     ]
    }
   ],
   "source": [
    "### Buuuut what if we're looking at string data?\n",
    "print(data.gender.value_counts())\n",
    "\n",
    "# Don't do it with floats (or ints, numeric in general) like weight because they're all unique\n",
    "print(len(data.weight.value_counts()))"
   ]
  },
  {
   "cell_type": "code",
   "execution_count": 230,
   "metadata": {},
   "outputs": [
    {
     "name": "stdout",
     "output_type": "stream",
     "text": [
      "Mean: 10.166666666666666\n",
      "Median: 10.5\n",
      "Mode: 0     6\n",
      "1     8\n",
      "2    10\n",
      "3    11\n",
      "4    12\n",
      "5    14\n",
      "dtype: int64\n",
      "Variance: 8.166666666666668\n",
      "STD: 2.8577380332470415\n",
      "Standard Error: 1.166666666666667\n"
     ]
    }
   ],
   "source": []
  },
  {
   "cell_type": "code",
   "execution_count": 221,
   "metadata": {
    "scrolled": true
   },
   "outputs": [
    {
     "name": "stdout",
     "output_type": "stream",
     "text": [
      "Mean: 9.714285714285714\n",
      "Median: 10.0\n",
      "Mode: 0     6.0\n",
      "1     7.0\n",
      "2     8.0\n",
      "3    10.0\n",
      "4    11.0\n",
      "5    12.0\n",
      "6    14.0\n",
      "dtype: float64\n",
      "Variance: 8.238095238095237\n",
      "STD: 2.8702082220799308\n",
      "Standard Error: 1.084836738085192\n"
     ]
    }
   ],
   "source": []
  },
  {
   "cell_type": "code",
   "execution_count": 233,
   "metadata": {},
   "outputs": [
    {
     "name": "stdout",
     "output_type": "stream",
     "text": [
      "Mean: 8.857142857142858\n",
      "Median: 10.0\n",
      "Mode: 0     1.0\n",
      "1     6.0\n",
      "2     8.0\n",
      "3    10.0\n",
      "4    11.0\n",
      "5    12.0\n",
      "6    14.0\n",
      "dtype: float64\n",
      "Variance: 18.80952380952381\n",
      "STD: 4.3369947901195145\n",
      "Standard Error: 1.6392299502912862\n"
     ]
    },
    {
     "data": {
      "text/plain": [
       "array(['Greg', 'Marcia', 'Peter', 'Jan', 'Bobby', 'Cindy', 'Jessica'],\n",
       "      dtype=object)"
      ]
     },
     "execution_count": 233,
     "metadata": {},
     "output_type": "execute_result"
    }
   ],
   "source": [
    "### What would happen if Oliver(?) was replaced by 1-year-old Jessica, who is then included here\n",
    "brady_kids.loc['Jessica', 'age']=1\n",
    "\n",
    "\n",
    "\n",
    "print('Mean: {}'.format(brady_kids.age.mean()))\n",
    "# Did change\n",
    "\n",
    "print('Median: {}'.format(brady_kids.age.median()))\n",
    "# Did change. Would use this now en leiu of mean\n",
    "\n",
    "print('Mode: {}'.format(brady_kids.age.mode()))\n",
    "# There is no mode. Did not change\n",
    "\n",
    "print('Variance: {}'.format(brady_kids.age.var()))\n",
    "# Did change\n",
    "\n",
    "print('STD: {}'.format(brady_kids.age.std()))\n",
    "# Did change\n",
    "\n",
    "print('Standard Error: {}'.format(brady_kids.age.std()/(len(brady_kids)**0.5)))\n",
    "# Did change\n",
    "\n",
    "# I would certainly still choose the std for the same reasons but the median is now a more interesting measure of central tendency given the outlier"
   ]
  },
  {
   "cell_type": "code",
   "execution_count": 240,
   "metadata": {},
   "outputs": [
    {
     "name": "stdout",
     "output_type": "stream",
     "text": [
      "0.03944933459514875\n"
     ]
    }
   ],
   "source": [
    "# The last question is unanswerable given the information given but I guess we can assume each is a compeltely independent substample of the population and therefore we can just average the responses\n",
    "\n",
    "brady_reviews = pd.DataFrame(index=['TV Guide', 'Entertainment Weekly', 'Pop Culture Today', 'SciPhi Phanatic'])\n",
    "brady_reviews['sample_perc']=[.2, .23, .17, .05]\n",
    "brady_reviews.sample_perc.describe()\n",
    "brady_reviews_SEM = brady_reviews.sample_perc.std()/np.sqrt(len(brady_reviews))\n",
    "print(brady_reviews_SEM)\n",
    "# I would guess 16 +- 4%"
   ]
  },
  {
   "cell_type": "code",
   "execution_count": null,
   "metadata": {
    "collapsed": true
   },
   "outputs": [],
   "source": []
  }
 ],
 "metadata": {
  "kernelspec": {
   "display_name": "Python 3",
   "language": "python",
   "name": "python3"
  },
  "language_info": {
   "codemirror_mode": {
    "name": "ipython",
    "version": 3
   },
   "file_extension": ".py",
   "mimetype": "text/x-python",
   "name": "python",
   "nbconvert_exporter": "python",
   "pygments_lexer": "ipython3",
   "version": "3.6.5"
  }
 },
 "nbformat": 4,
 "nbformat_minor": 2
}
